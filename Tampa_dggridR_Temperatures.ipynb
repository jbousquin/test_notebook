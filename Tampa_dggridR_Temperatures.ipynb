{
 "cells": [
  {
   "cell_type": "code",
   "execution_count": null,
   "id": "ordered-reward",
   "metadata": {},
   "outputs": [],
   "source": [
    "#Depends on the following installs. Installed from  conda-forge \n",
    "# as it handled conflicts better than from Cran\n",
    "#install.packages(\"rgdal\")\n",
    "#install.packages('sf')\n",
    "#install.packages(\"udunits2\")\n",
    "#install.packages(\"dggridR\")\n",
    "\n",
    "library(dggridR)\n",
    "library(sf)\n",
    "library(dplyr)"
   ]
  },
  {
   "cell_type": "code",
   "execution_count": null,
   "id": "editorial-intent",
   "metadata": {},
   "outputs": [],
   "source": [
    "# Read shp into sf object\n",
    "shp <- \"~/stations/station_points_combined.shp\"\n",
    "shp_out <- \"~/stations/station_hex.shp\"\n",
    "shp_path <- \"~/stations\"\n",
    "station.sf <- st_read(shp)"
   ]
  },
  {
   "cell_type": "code",
   "execution_count": null,
   "id": "constitutional-cigarette",
   "metadata": {},
   "outputs": [],
   "source": [
    "# Inspect different DGGS by changing target area\n",
    "dggs <- dgconstruct(projection=\"FULLER\", aperture = 4, area=22)\n",
    "\n",
    "# Read sf into hex grid approx. 30mx30m\n",
    "dggs <- dgconstruct(area=0.0009)\n",
    "points <- st_coordinates(station.sf)\n",
    "temp.df <- as.data.frame(points)\n",
    "temp.df$cell <- dgGEO_to_SEQNUM(dggs, temp.df$X, temp.df$Y)$seqnum"
   ]
  },
  {
   "cell_type": "code",
   "execution_count": null,
   "id": "incident-bristol",
   "metadata": {},
   "outputs": [],
   "source": [
    "# Aggregate by cell\n",
    "counts <- temp.df %>% group_by(cell) %>% summarise(count=n())"
   ]
  },
  {
   "cell_type": "code",
   "execution_count": null,
   "id": "frank-aside",
   "metadata": {},
   "outputs": [],
   "source": [
    "# Get cell boundary to save\n",
    "dgcellstogrid(dggs, counts$cell,frame=FALSE,savegrid=shp_path)\n",
    "\n",
    "# Get cell boundary to plot\n",
    "grid <- dgcellstogrid(dggs, counts$cell,frame=TRUE,wrapcells=TRUE)\n",
    "grid <- merge(grid, counts, by.x=\"cell\", by.y=\"cell\")\n",
    "\n",
    "p <- ggplot() + \n",
    "     geom_polygon(data=grid, aes(x=long, y=lat, group=group, fill=count), alpha=0.4)    +\n",
    "     geom_path   (data=grid, aes(x=long, y=lat, group=group), alpha=0.4, color=\"white\") +\n",
    "     scale_fill_gradient(low=\"blue\", high=\"red\")"
   ]
  },
  {
   "cell_type": "code",
   "execution_count": null,
   "id": "fixed-siemens",
   "metadata": {},
   "outputs": [],
   "source": [
    "# Export to shp for plotting in arc\n",
    "grid.sf <- st_as_sf(grid, coords = c(\"long\", \"lat\"), crs=st_crs(station.sf))\n",
    "st_write(grid.sf, shp_out)"
   ]
  }
 ],
 "metadata": {
  "kernelspec": {
   "display_name": "R",
   "language": "R",
   "name": "ir"
  },
  "language_info": {
   "codemirror_mode": "r",
   "file_extension": ".r",
   "mimetype": "text/x-r-source",
   "name": "R",
   "pygments_lexer": "r",
   "version": "4.0.3"
  }
 },
 "nbformat": 4,
 "nbformat_minor": 5
}
